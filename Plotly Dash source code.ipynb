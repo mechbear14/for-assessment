{
    "cells": [
        {
            "cell_type": "markdown",
            "metadata": {},
            "source": "## Plotly Dash source code"
        },
        {
            "cell_type": "markdown",
            "metadata": {},
            "source": "This document contains the source code for the Dashboard built for SpaceX launch prediction. \n\nPlease **do not** run this directly in this notebook. But rather, create a separate Python environment, copy the source code and data in, install the dependencies and run. \n\nDependencies: \n- Pandas 1.3.2\n- Plotly 5.3.1\n- Dash 2.0.0\n\nDataset can be found in this repo"
        },
        {
            "cell_type": "code",
            "execution_count": 1,
            "metadata": {},
            "outputs": [
                {
                    "ename": "ModuleNotFoundError",
                    "evalue": "No module named 'dash'",
                    "output_type": "error",
                    "traceback": [
                        "\u001b[0;31m---------------------------------------------------------------------------\u001b[0m",
                        "\u001b[0;31mModuleNotFoundError\u001b[0m                       Traceback (most recent call last)",
                        "\u001b[0;32m<ipython-input-1-69b29930d14e>\u001b[0m in \u001b[0;36m<module>\u001b[0;34m\u001b[0m\n\u001b[1;32m      1\u001b[0m \u001b[0;31m# Import required libraries\u001b[0m\u001b[0;34m\u001b[0m\u001b[0;34m\u001b[0m\u001b[0;34m\u001b[0m\u001b[0m\n\u001b[1;32m      2\u001b[0m \u001b[0;32mimport\u001b[0m \u001b[0mpandas\u001b[0m \u001b[0;32mas\u001b[0m \u001b[0mpd\u001b[0m\u001b[0;34m\u001b[0m\u001b[0;34m\u001b[0m\u001b[0m\n\u001b[0;32m----> 3\u001b[0;31m \u001b[0;32mimport\u001b[0m \u001b[0mdash\u001b[0m\u001b[0;34m\u001b[0m\u001b[0;34m\u001b[0m\u001b[0m\n\u001b[0m\u001b[1;32m      4\u001b[0m \u001b[0;32mimport\u001b[0m \u001b[0mdash_html_components\u001b[0m \u001b[0;32mas\u001b[0m \u001b[0mhtml\u001b[0m\u001b[0;34m\u001b[0m\u001b[0;34m\u001b[0m\u001b[0m\n\u001b[1;32m      5\u001b[0m \u001b[0;32mimport\u001b[0m \u001b[0mdash_core_components\u001b[0m \u001b[0;32mas\u001b[0m \u001b[0mdcc\u001b[0m\u001b[0;34m\u001b[0m\u001b[0;34m\u001b[0m\u001b[0m\n",
                        "\u001b[0;31mModuleNotFoundError\u001b[0m: No module named 'dash'"
                    ]
                }
            ],
            "source": "# Import required libraries\nimport pandas as pd\nimport dash\nimport dash_html_components as html\nimport dash_core_components as dcc\nfrom dash.dependencies import Input, Output\nimport plotly.express as px\n\n# Read the airline data into pandas dataframe\nspacex_df = pd.read_csv(\"spacex_launch_dash.csv\").rename(columns={\"Unnamed: 0\": \"id\"})\nmax_payload = spacex_df['Payload Mass (kg)'].max()\nmin_payload = spacex_df['Payload Mass (kg)'].min()\n\nlaunch_sites = list(spacex_df[\"Launch Site\"].value_counts().keys())\noptions = [{\"label\": s, \"value\": s} for s in launch_sites]\noptions.append({\"label\": \"ALL\", \"value\": \"ALL\"})\n\n# Create a dash application\napp = dash.Dash(__name__)\n\n# Create an app layout\napp.layout = html.Div(children=[html.H1('SpaceX Launch Records Dashboard',\n                                        style={'textAlign': 'center', 'color': '#503D36',\n                                               'font-size': 40}),\n                                # TASK 1: Add a dropdown list to enable Launch Site selection\n                                # The default select value is for ALL sites\n                                # dcc.Dropdown(id='site-dropdown',...)\n                                dcc.Dropdown(id=\"site-dropdown\", options=options, value=\"ALL\"),\n                                html.Br(),\n\n                                # TASK 2: Add a pie chart to show the total successful launches count for all sites\n                                # If a specific launch site was selected, show the Success vs. Failed counts for the site\n                                html.Div(dcc.Graph(id='success-pie-chart')),\n                                html.Br(),\n\n                                html.P(\"Payload range (Kg):\"),\n                                # TASK 3: Add a slider to select payload range\n                                #dcc.RangeSlider(id='payload-slider',...)\n                                dcc.RangeSlider(id=\"payload-slider\", min=0, max=10000, step=1000, value=[min_payload, max_payload]),\n\n                                # TASK 4: Add a scatter chart to show the correlation between payload and launch success\n                                html.Div(dcc.Graph(id='success-payload-scatter-chart')),\n                                ])\n\n# TASK 2:\n# Add a callback function for `site-dropdown` as input, `success-pie-chart` as output\n@app.callback(\n    dash.dependencies.Output(\"success-pie-chart\", \"figure\"),\n    [dash.dependencies.Input(\"site-dropdown\", \"value\")]\n)\ndef on_site_select(value):\n    if value == \"ALL\":\n        df = spacex_df.loc[spacex_df[\"class\"] == 1]\n        return px.pie(df[[\"Launch Site\", \"id\"]], names=\"Launch Site\")        \n    else:\n        df = spacex_df.loc[spacex_df[\"Launch Site\"] == value]\n        return px.pie(df[[\"class\", \"id\"]], names=\"class\")\n\n# TASK 4:\n# Add a callback function for `site-dropdown` and `payload-slider` as inputs, `success-payload-scatter-chart` as output\n@app.callback(\n    dash.dependencies.Output(\"success-payload-scatter-chart\", \"figure\"),\n    [dash.dependencies.Input(\"site-dropdown\", \"value\"), dash.dependencies.Input(\"payload-slider\", \"value\")]\n)\ndef on_range_select(site, range):\n    left = range[0]\n    right = range[1]\n    if site == \"ALL\":\n        df = spacex_df\n    else:\n        df = spacex_df.loc[spacex_df[\"Launch Site\"] == site]\n    df = df.loc[df[\"Payload Mass (kg)\"] >= left]\n    df = df.loc[df[\"Payload Mass (kg)\"] <= right]\n    return px.scatter(data_frame=df, x=\"Payload Mass (kg)\", y=\"class\", color=\"Booster Version Category\")\n\n\n# Run the app\nif __name__ == '__main__':\n    app.run_server()\n"
        },
        {
            "cell_type": "code",
            "execution_count": null,
            "metadata": {},
            "outputs": [],
            "source": ""
        }
    ],
    "metadata": {
        "kernelspec": {
            "display_name": "Python 3.8",
            "language": "python",
            "name": "python3"
        },
        "language_info": {
            "codemirror_mode": {
                "name": "ipython",
                "version": 3
            },
            "file_extension": ".py",
            "mimetype": "text/x-python",
            "name": "python",
            "nbconvert_exporter": "python",
            "pygments_lexer": "ipython3",
            "version": "3.8.10"
        }
    },
    "nbformat": 4,
    "nbformat_minor": 1
}